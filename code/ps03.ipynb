{
 "metadata": {
  "name": "",
  "signature": "sha256:5d7b0214b3a2a71299717df872158a37b4f10ccd974312b7123e5e2c1d6211c5"
 },
 "nbformat": 3,
 "nbformat_minor": 0,
 "worksheets": [
  {
   "cells": [
    {
     "cell_type": "heading",
     "level": 1,
     "metadata": {},
     "source": [
      "PS02 by Jennifer Wei for SigSys15"
     ]
    },
    {
     "cell_type": "markdown",
     "metadata": {},
     "source": [
      "12 February 2015"
     ]
    },
    {
     "cell_type": "code",
     "collapsed": false,
     "input": [
      "from __future__ import print_function, division\n",
      "\n",
      "import thinkdsp\n",
      "import thinkplot\n",
      "import numpy\n",
      "import math\n",
      "import pandas\n",
      "import scipy.fftpack\n",
      "\n",
      "import dct\n",
      "\n",
      "PI2 = 2 * math.pi\n",
      "\n",
      "%matplotlib inline"
     ],
     "language": "python",
     "metadata": {},
     "outputs": [],
     "prompt_number": 1
    },
    {
     "cell_type": "heading",
     "level": 6,
     "metadata": {},
     "source": [
      "1) At http://www.coindesk.com you can download the daily price of a BitCoin as a CSV file.  \n",
      "\n",
      "Specifying nrows is necessary to avoid some extra lines at the end of the file; you might have to adjust this value.  The framerate is 1 sample/day.\n",
      "\n",
      "Compute the power spectrum of BitCoin prices. Does it resemble white, pink, or Brownian noise?"
     ]
    },
    {
     "cell_type": "code",
     "collapsed": false,
     "input": [
      "nrows = 1625\n",
      "df = pandas.read_csv('coindesk-bpi-USD-close_ps03.csv', nrows=nrows, parse_dates=[0])\n",
      "ys = df.Close.values\n",
      "wave = thinkdsp.Wave(ys, framerate=1)\n",
      "wave.plot()"
     ],
     "language": "python",
     "metadata": {},
     "outputs": [
      {
       "metadata": {},
       "output_type": "display_data",
       "png": "[encoded data removed]",
       "text": [
        "<matplotlib.figure.Figure at 0x7f11bc77f950>"
       ]
      }
     ],
     "prompt_number": 2
    },
    {
     "cell_type": "markdown",
     "metadata": {},
     "source": [
      "Above is a spectrum plot of the Coindesk BitCoin (frequencies and amplitudes). [WRITE MORE INFORMATION HERE]"
     ]
    },
    {
     "cell_type": "code",
     "collapsed": false,
     "input": [
      "spec = wave.make_spectrum()\n",
      "spec.plot_power()"
     ],
     "language": "python",
     "metadata": {},
     "outputs": [
      {
       "metadata": {},
       "output_type": "display_data",
       "png": "[encoded data removed]",
       "text": [
        "<matplotlib.figure.Figure at 0x7f11bc41ad90>"
       ]
      }
     ],
     "prompt_number": 5
    },
    {
     "cell_type": "heading",
     "level": 6,
     "metadata": {},
     "source": [
      "2) Compute the autocorrelation of BitCoin prices. Does the autocorrelation function decay exponentially? Is there evidence of periodic behavior?"
     ]
    },
    {
     "cell_type": "code",
     "collapsed": false,
     "input": [],
     "language": "python",
     "metadata": {},
     "outputs": []
    },
    {
     "cell_type": "heading",
     "level": 6,
     "metadata": {},
     "source": [
      "3) Use autocorrelation to estimate the pitch of the saxophone recording in 100475__iluppai__saxophone-weep.wav.  What happens if you filter out the fundamental tone?  Is the estimate based on the autocorrelation function consistent with your perceived pitch?"
     ]
    },
    {
     "cell_type": "code",
     "collapsed": false,
     "input": [],
     "language": "python",
     "metadata": {},
     "outputs": []
    },
    {
     "cell_type": "heading",
     "level": 6,
     "metadata": {},
     "source": [
      "4) Test the algorithmic complexity of analyze1, analyze2 and scipy.fftpack.dct."
     ]
    },
    {
     "cell_type": "code",
     "collapsed": false,
     "input": [],
     "language": "python",
     "metadata": {},
     "outputs": []
    },
    {
     "cell_type": "heading",
     "level": 6,
     "metadata": {},
     "source": [
      "5) One of the major applications of the DCT is compression for both sound and images. In its simplest form, DCT-based compression works like this:\n",
      "Break a long signal into segments.\n",
      "Compute the DCT of each segment.\n",
      "Identify frequency components with amplitudes so low they are inaudible, and remove them. Store only the frequencies and amplitudes that remain.\n",
      "To play back the signal, load the frequencies and amplitudes for each segment and apply the inverse DCT.\n",
      "Implement a version of this algorithm and apply it to a recording of music or speech. How many components can you eliminate before the difference is perceptible?\n"
     ]
    },
    {
     "cell_type": "code",
     "collapsed": false,
     "input": [],
     "language": "python",
     "metadata": {},
     "outputs": []
    }
   ],
   "metadata": {}
  }
 ]
}