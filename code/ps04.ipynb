{
 "metadata": {
  "name": "",
  "signature": "sha256:01ed13f7648da735a44b2d5fdb45cf7da683dec6dcdc48988dea85b17a0ebe12"
 },
 "nbformat": 3,
 "nbformat_minor": 0,
 "worksheets": [
  {
   "cells": [
    {
     "cell_type": "heading",
     "level": 1,
     "metadata": {},
     "source": [
      "PS04 by Jennifer Wei for SigSys15"
     ]
    },
    {
     "cell_type": "markdown",
     "metadata": {},
     "source": [
      "19 February 2015"
     ]
    },
    {
     "cell_type": "heading",
     "level": 6,
     "metadata": {},
     "source": [
      "0) On PS03, it looks like some people did not get as far as a working implementation of DCT-based compression.  If you want to finish it for this homework, I think you will find it educational, and you can fill in some of the missing points from PS03."
     ]
    },
    {
     "cell_type": "heading",
     "level": 6,
     "metadata": {},
     "source": [
      "1) Please finish this exercise that we started in class: One of the examples in chap07.ipynb compares two mixtures of complex sinusoids, one with offset=0 and one with offset=1.  The result is a different looking waveform, because \"rotating\" each component by the same phase offset does not shift each component by the same amount of time.\n",
      "\n",
      "Can you construct a vector of complex amplitudes that shifts all components by the same amount of time?"
     ]
    },
    {
     "cell_type": "heading",
     "level": 6,
     "metadata": {},
     "source": [
      "2) In Chapter 7 I represented the DFT as matrix multiplication, but the more common presentation is as a summation:\n",
      "\n",
      "From http://en.wikipedia.org/wiki/Discrete_Fourier_transform:"
     ]
    },
    {
     "cell_type": "heading",
     "level": 6,
     "metadata": {},
     "source": [
      "$X_k\\ \\stackrel{\\text{def}}{=}\\ \\sum_{n=0}^{N-1} x_n \\cdot e^{-i 2 \\pi k n / N},  \\quad k\\in\\mathbb{Z}\\,$"
     ]
    },
    {
     "cell_type": "heading",
     "level": 6,
     "metadata": {},
     "source": [
      "Read the Wikipedia page on DFT.  Write an implementation of DFT based on this summation and compare your results to my implementation and/or numpy.fft.fft."
     ]
    },
    {
     "cell_type": "heading",
     "level": 6,
     "metadata": {},
     "source": [
      "3) In Chapter 7, I showed how we can express the DFT and inverse DFT as matrix multiplications. These operations are relatively fast, taking time proportional to N2, where N is the length of the wave array. That would be fast enough for many applications, but it turns out that there is a faster algorithm, the Fast Fourier Transform (FFT), which takes time proportional to N logN.\n",
      "\n",
      "Read about the FFT at http://en.wikipedia.org/wiki/Cooley-Tukey_FFT_algorithm, and write an implementation. Hint: I suggest you write a simple version as a recursive function; don\u2019t worry about \u201cdata reordering, bit reversal, and in-place algorithms\u201d."
     ]
    },
    {
     "cell_type": "heading",
     "level": 6,
     "metadata": {},
     "source": [
      "4) More coming soon."
     ]
    },
    {
     "cell_type": "code",
     "collapsed": false,
     "input": [],
     "language": "python",
     "metadata": {},
     "outputs": []
    }
   ],
   "metadata": {}
  }
 ]
}