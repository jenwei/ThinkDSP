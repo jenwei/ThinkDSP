{
 "metadata": {
  "name": "",
  "signature": "sha256:8bc08ca733414f01e7d466ca6414f75dc9f66b3d268c1ac3d0ad9a37e111d613"
 },
 "nbformat": 3,
 "nbformat_minor": 0,
 "worksheets": [
  {
   "cells": [
    {
     "cell_type": "heading",
     "level": 1,
     "metadata": {},
     "source": [
      "PS04 by Jennifer Wei for SigSys15"
     ]
    },
    {
     "cell_type": "markdown",
     "metadata": {},
     "source": [
      "19 February 2015"
     ]
    },
    {
     "cell_type": "code",
     "collapsed": false,
     "input": [
      "from __future__ import print_function, division\n",
      "\n",
      "import thinkdsp\n",
      "import thinkplot\n",
      "import pandas\n",
      "import numpy\n",
      "import thinkstats2\n",
      "import math\n",
      "import dct\n",
      "\n",
      "from IPython.display import Audio\n",
      "PI2 = 2 * math.pi\n",
      "i = complex(0,1)\n",
      "%precision 3\n",
      "%matplotlib inline"
     ],
     "language": "python",
     "metadata": {},
     "outputs": [],
     "prompt_number": 5
    },
    {
     "cell_type": "heading",
     "level": 6,
     "metadata": {},
     "source": [
      "0) On PS03, it looks like some people did not get as far as a working implementation of DCT-based compression.  If you want to finish it for this homework, I think you will find it educational, and you can fill in some of the missing points from PS03."
     ]
    },
    {
     "cell_type": "heading",
     "level": 6,
     "metadata": {},
     "source": [
      "1) Please finish this exercise that we started in class: One of the examples in chap07.ipynb compares two mixtures of complex sinusoids, one with offset=0 and one with offset=1.  The result is a different looking waveform, because \"rotating\" each component by the same phase offset does not shift each component by the same amount of time.\n",
      "\n",
      "Can you construct a vector of complex amplitudes that shifts all components by the same amount of time?"
     ]
    },
    {
     "cell_type": "code",
     "collapsed": false,
     "input": [
      "def synthesize1(amps, freqs, ts):\n",
      "    components = [thinkdsp.ComplexSinusoid(freq, amp)\n",
      "                  for amp, freq in zip(amps, freqs)]\n",
      "    signal = thinkdsp.SumSignal(*components)\n",
      "    ys = signal.evaluate(ts)\n",
      "    return ys\n",
      "\n",
      "def synthesize2(amps, freqs, ts):\n",
      "    args = numpy.outer(ts, freqs)\n",
      "    M = numpy.exp(i * PI2 * args)\n",
      "    ys = numpy.dot(M, amps)\n",
      "    return ys"
     ],
     "language": "python",
     "metadata": {},
     "outputs": [],
     "prompt_number": 6
    },
    {
     "cell_type": "markdown",
     "metadata": {},
     "source": [
      "Above is a cut&paste of the example code from chap07. The code above is of two methods for synthesizing."
     ]
    },
    {
     "cell_type": "code",
     "collapsed": false,
     "input": [
      "amps = numpy.array([0.6, 0.25, 0.1, 0.05])\n",
      "freqs = numpy.array([100, 200, 300, 400])\n",
      "framerate = 11025\n",
      "\n",
      "ys = synthesize2(amps, freqs, ts)\n",
      "amps2 = amps * numpy.exp(1j) #offset=1\n",
      "ys2 = synthesize2(amps2, freqs, ts)\n",
      "\n",
      "\n",
      "thinkplot.plot(ts[:500], ys.real[:500], label=r'$\\phi_0 = 0$')\n",
      "thinkplot.plot(ts[:500], ys2.real[:500], label=r'$\\phi_0 = 1$')\n",
      "thinkplot.config(title='Different Time Shift', xlabel='time (s)', ylabel='amplitude')"
     ],
     "language": "python",
     "metadata": {},
     "outputs": [
      {
       "ename": "NameError",
       "evalue": "name 'ts' is not defined",
       "output_type": "pyerr",
       "traceback": [
        "\u001b[1;31m---------------------------------------------------------------------------\u001b[0m\n\u001b[1;31mNameError\u001b[0m                                 Traceback (most recent call last)",
        "\u001b[1;32m<ipython-input-7-707b2d77921b>\u001b[0m in \u001b[0;36m<module>\u001b[1;34m()\u001b[0m\n\u001b[0;32m      3\u001b[0m \u001b[0mframerate\u001b[0m \u001b[1;33m=\u001b[0m \u001b[1;36m11025\u001b[0m\u001b[1;33m\u001b[0m\u001b[0m\n\u001b[0;32m      4\u001b[0m \u001b[1;33m\u001b[0m\u001b[0m\n\u001b[1;32m----> 5\u001b[1;33m \u001b[0mys\u001b[0m \u001b[1;33m=\u001b[0m \u001b[0msynthesize2\u001b[0m\u001b[1;33m(\u001b[0m\u001b[0mamps\u001b[0m\u001b[1;33m,\u001b[0m \u001b[0mfreqs\u001b[0m\u001b[1;33m,\u001b[0m \u001b[0mts\u001b[0m\u001b[1;33m)\u001b[0m\u001b[1;33m\u001b[0m\u001b[0m\n\u001b[0m\u001b[0;32m      6\u001b[0m \u001b[0mamps2\u001b[0m \u001b[1;33m=\u001b[0m \u001b[0mamps\u001b[0m \u001b[1;33m*\u001b[0m \u001b[0mnumpy\u001b[0m\u001b[1;33m.\u001b[0m\u001b[0mexp\u001b[0m\u001b[1;33m(\u001b[0m\u001b[1;36m1j\u001b[0m\u001b[1;33m)\u001b[0m \u001b[1;31m#offset=1\u001b[0m\u001b[1;33m\u001b[0m\u001b[0m\n\u001b[0;32m      7\u001b[0m \u001b[0mys2\u001b[0m \u001b[1;33m=\u001b[0m \u001b[0msynthesize2\u001b[0m\u001b[1;33m(\u001b[0m\u001b[0mamps2\u001b[0m\u001b[1;33m,\u001b[0m \u001b[0mfreqs\u001b[0m\u001b[1;33m,\u001b[0m \u001b[0mts\u001b[0m\u001b[1;33m)\u001b[0m\u001b[1;33m\u001b[0m\u001b[0m\n",
        "\u001b[1;31mNameError\u001b[0m: name 'ts' is not defined"
       ]
      }
     ],
     "prompt_number": 7
    },
    {
     "cell_type": "markdown",
     "metadata": {},
     "source": [
      "As mentioned in the question, shifting all components by the same phase offset does not shift each component by the same amount of time, as shown above. To shift all components by the same amount of time, each component must be \"rotated\" by a different phase offset. This is done by multiplying the originals amplitudes, amps, by $e^{i2\\pi ft}$, where $f$ represents frequencies and $t$ represents the time offset. The code and plot below illustrate and prove how shifting all components by the same amount of time works."
     ]
    },
    {
     "cell_type": "code",
     "collapsed": false,
     "input": [
      "t_offset = 0.005\n",
      "amps3 = amps*numpy.exp(i*PI2*numpy.asarray(freqs)*t_offset)\n",
      "ys3 = synthesize2(amps3, freqs, ts)\n",
      "\n",
      "thinkplot.plot(ts[:500], ys[:500].real, label=r'$\\phi_0 = 0$')\n",
      "thinkplot.plot(ts[:500], ys3[:500].real, label=r'$\\phi_0 = 1$')\n",
      "thinkplot.config(title='Same Time Shift', xlabel='time (s)', ylabel='amplitude')"
     ],
     "language": "python",
     "metadata": {},
     "outputs": []
    },
    {
     "cell_type": "heading",
     "level": 6,
     "metadata": {},
     "source": [
      "2) In Chapter 7 I represented the DFT as matrix multiplication, but the more common presentation is as a summation:\n",
      "\n",
      "From http://en.wikipedia.org/wiki/Discrete_Fourier_transform:"
     ]
    },
    {
     "cell_type": "heading",
     "level": 6,
     "metadata": {},
     "source": [
      "$X_k\\ \\stackrel{\\text{def}}{=}\\ \\sum_{n=0}^{N-1} x_n \\cdot e^{-i 2 \\pi k n / N},  \\quad k\\in\\mathbb{Z}\\,$"
     ]
    },
    {
     "cell_type": "heading",
     "level": 6,
     "metadata": {},
     "source": [
      "Read the Wikipedia page on DFT.  Write an implementation of DFT based on this summation and compare your results to my implementation and/or numpy.fft.fft."
     ]
    },
    {
     "cell_type": "markdown",
     "metadata": {},
     "source": [
      "According to Wikipedia, the discrete Fourier transform converts a finite list of equally spaced samples of a function into the list of coefficients of a finite combination of complex sinusoids, ordered by their frequencies, that has those same sample values, converting the sampled function from its original domain to the frequency domain."
     ]
    },
    {
     "cell_type": "markdown",
     "metadata": {},
     "source": [
      "After reading the Wikipedia page on DFT, below is my attempt at a DFT implementation based on the summation above:"
     ]
    },
    {
     "cell_type": "code",
     "collapsed": false,
     "input": [
      "def summ_dft(xs):\n",
      "    N = len(xs)\n",
      "    freq = numpy.arange(N)\n",
      "    x_n = xs\n",
      "    summ = 0\n",
      "    for n in range(N-1):\n",
      "        s = x_n[n]*numpy.exp((i*PI2*n*freq)/N)\n",
      "        summ += s\n",
      "    return summ"
     ],
     "language": "python",
     "metadata": {},
     "outputs": []
    },
    {
     "cell_type": "markdown",
     "metadata": {},
     "source": [
      "For reference, below is your (Allen's) DFT implementation (taken from dft.py):"
     ]
    },
    {
     "cell_type": "code",
     "collapsed": false,
     "input": [
      "def dft(ys):\n",
      "    i = complex(0, 1)\n",
      "    N = len(ys)\n",
      "    ts = numpy.arange(N) / N\n",
      "    freqs = numpy.arange(N)\n",
      "    args = numpy.outer(ts, freqs)\n",
      "    M = numpy.exp(i * PI2 * args)\n",
      "    amps = M.conj().transpose().dot(ys)\n",
      "    return amps"
     ],
     "language": "python",
     "metadata": {},
     "outputs": []
    },
    {
     "cell_type": "markdown",
     "metadata": {},
     "source": [
      "Now that the summation DFT implementation is finished, we can now compare the results with that of Allen's code as well as that of numpy.fft.fft."
     ]
    },
    {
     "cell_type": "code",
     "collapsed": false,
     "input": [
      "test_array = numpy.array([-0.5, 0.25, 0.75, 1.25, -0.125])"
     ],
     "language": "python",
     "metadata": {},
     "outputs": []
    },
    {
     "cell_type": "code",
     "collapsed": false,
     "input": [
      "allen = dft(test_array)\n",
      "print(allen)"
     ],
     "language": "python",
     "metadata": {},
     "outputs": []
    },
    {
     "cell_type": "code",
     "collapsed": false,
     "input": [
      "summation = summ_dft(test_array)\n",
      "print(summation)"
     ],
     "language": "python",
     "metadata": {},
     "outputs": []
    },
    {
     "cell_type": "code",
     "collapsed": false,
     "input": [
      "numpyfft = numpy.fft.fft(test_array)\n",
      "print(numpyfft)"
     ],
     "language": "python",
     "metadata": {},
     "outputs": []
    },
    {
     "cell_type": "markdown",
     "metadata": {},
     "source": [
      "As shown by the computations above, dft and numpy.fft.fft have the same results, though dft takes more time to compute. Unfortunately, the summation dft I wrote was not quite up to par in terms of calculations and speed, though it is in the same magnitude as the other two implementations."
     ]
    },
    {
     "cell_type": "heading",
     "level": 6,
     "metadata": {},
     "source": [
      "3) In Chapter 7, I showed how we can express the DFT and inverse DFT as matrix multiplications. These operations are relatively fast, taking time proportional to N2, where N is the length of the wave array. That would be fast enough for many applications, but it turns out that there is a faster algorithm, the Fast Fourier Transform (FFT), which takes time proportional to N logN.\n",
      "\n",
      "Read about the FFT at http://en.wikipedia.org/wiki/Cooley-Tukey_FFT_algorithm, and write an implementation. Hint: I suggest you write a simple version as a recursive function; don\u2019t worry about \u201cdata reordering, bit reversal, and in-place algorithms\u201d."
     ]
    },
    {
     "cell_type": "markdown",
     "metadata": {},
     "source": [
      "I didn't fully understand the FFT article (though I will try to go back to it later). Below is my FFT implementation based on the Wikipedia pseudocode as well as advice from numerous classmates."
     ]
    },
    {
     "cell_type": "code",
     "collapsed": false,
     "input": [
      "random = [1,2,3,4,5,6,7,8,9,10]\n",
      "print(random[:5])"
     ],
     "language": "python",
     "metadata": {},
     "outputs": []
    },
    {
     "cell_type": "code",
     "collapsed": false,
     "input": [
      "def my_fft(xs):\n",
      "    N = len(xs)\n",
      "    if N == 1:\n",
      "        return xs\n",
      "    else:\n",
      "        odds = my_fft(xs[::2])\n",
      "        evens = my_fft(xs[1::2])\n",
      "        allX = [0]*N\n",
      "        for k in range(int(N/2)):\n",
      "            allX[k] = odds[k] + numpy.exp(-PI2*i*k/N)*evens[k]\n",
      "            allX[k+int(N/2)] = evens[k] - numpy.exp(-PI2*i*k/N)*evens[k]\n",
      "        return allX"
     ],
     "language": "python",
     "metadata": {},
     "outputs": []
    },
    {
     "cell_type": "markdown",
     "metadata": {},
     "source": [
      "My implementation of my_fft is not bugproof, but if used properly, it will work."
     ]
    },
    {
     "cell_type": "code",
     "collapsed": false,
     "input": [
      "new_amps = my_fft(thinkdsp.SawtoothSignal(440).make_wave().ys[:2**13])\n",
      "thinkdsp.Spectrum(new_amps, framerate=22000).plot()\n",
      "thinkplot.show(xlim=[0,6000])"
     ],
     "language": "python",
     "metadata": {},
     "outputs": []
    },
    {
     "cell_type": "markdown",
     "metadata": {},
     "source": [
      "Above is the resultant spectrum plot of my_fft. As verified by the expected spectrum plot below, the Wikipedia fft works. However, I'm still not sure how exactly it does (and for the verification, I tweaked variables until it worked . . . )"
     ]
    },
    {
     "cell_type": "code",
     "collapsed": false,
     "input": [
      "test.make_wave().make_spectrum().plot()"
     ],
     "language": "python",
     "metadata": {},
     "outputs": []
    },
    {
     "cell_type": "heading",
     "level": 6,
     "metadata": {},
     "source": [
      "4) Using the timing code from PS03, compare the performance of my implementation of autocorr from Chapter 5, my fft_autocorr from Chapter 8, and numpy.correlate.  Can you tell whether NumPy is using the FFT algorithm?"
     ]
    },
    {
     "cell_type": "markdown",
     "metadata": {},
     "source": [
      "Below is the relevant code from Chapter 5 for autocorr:"
     ]
    },
    {
     "cell_type": "code",
     "collapsed": false,
     "input": [
      "import scipy\n",
      "\n",
      "def corrcoef(xs, ys):\n",
      "    return numpy.corrcoef(xs, ys, ddof=0)[0, 1]\n",
      "\n",
      "def serial_corr(wave, lag=1):\n",
      "    N = len(wave)\n",
      "    y1 = wave.ys[lag:]\n",
      "    y2 = wave.ys[:N-lag]\n",
      "    corr = corrcoef(y1, y2)\n",
      "    return corr\n",
      "\n",
      "def autocorr(wave):\n",
      "    \"\"\"Computes and plots the autocorrelation function.\n",
      "\n",
      "    wave: Wave\n",
      "    \"\"\"\n",
      "    lags = range(len(wave.ys)//2)\n",
      "    corrs = [serial_corr(wave, lag) for lag in lags]\n",
      "    return lags, corrs"
     ],
     "language": "python",
     "metadata": {},
     "outputs": []
    },
    {
     "cell_type": "markdown",
     "metadata": {},
     "source": [
      "Below is the relevant code from Chapter 8 for fft_autocorr:"
     ]
    },
    {
     "cell_type": "code",
     "collapsed": false,
     "input": [
      "def zero_pad(array, n):\n",
      "    res = numpy.zeros(n)\n",
      "    res[:len(array)] = array\n",
      "    return res\n",
      "\n",
      "def fft_convolve(signal, window):\n",
      "    fft_signal = numpy.fft.fft(signal)\n",
      "    fft_window = numpy.fft.fft(window)\n",
      "    \n",
      "    return numpy.fft.ifft(fft_signal * fft_window)\n",
      "\n",
      "def fft_autocorr(signal):\n",
      "    N = len(signal)\n",
      "    window = signal[::-1]\n",
      "    signal = zero_pad(signal, 2*N)\n",
      "    window = zero_pad(window, 2*N)\n",
      "\n",
      "    corrs = fft_convolve(signal, window)\n",
      "    corrs = corrs[N//2: 3*N//2]\n",
      "    return corrs"
     ],
     "language": "python",
     "metadata": {},
     "outputs": []
    },
    {
     "cell_type": "code",
     "collapsed": false,
     "input": [
      "signal = thinkdsp.UncorrelatedGaussianNoise()\n",
      "noise = signal.make_wave(duration=1.0)\n",
      "\n",
      "ns = 2 ** numpy.arange(4, 12)\n",
      "print(ns)"
     ],
     "language": "python",
     "metadata": {},
     "outputs": []
    },
    {
     "cell_type": "code",
     "collapsed": false,
     "input": [
      "results_Ch5 = []\n",
      "results_Ch8 = []\n",
      "results_numpy = []\n",
      "\n",
      "for N in ns:\n",
      "    ts = (0.5 + numpy.arange(N)) / N\n",
      "    freqs = (0.5 + numpy.arange(N)) / 2\n",
      "    ys = noise.ys[:N]\n",
      "    test_wave = thinkdsp.Wave(ys,11025)\n",
      "    result1 = %timeit -o autocorr(test_wave)\n",
      "    results_Ch5.append(result1)\n",
      "    result2 = %timeit -o fft_autocorr(ys)\n",
      "    results_Ch8.append(result2)\n",
      "    result3 = %timeit -o numpy.correlate(ys,ys)\n",
      "    results_numpy.append(result3)\n",
      "\n",
      "bests0 = [result.best for result in results_Ch5]\n",
      "bests1 = [result.best for result in results_Ch8]\n",
      "bests2 = [result.best for result in results_numpy]"
     ],
     "language": "python",
     "metadata": {},
     "outputs": []
    },
    {
     "cell_type": "heading",
     "level": 6,
     "metadata": {},
     "source": [
      "Comparison Plot"
     ]
    },
    {
     "cell_type": "code",
     "collapsed": false,
     "input": [
      "thinkplot.plot(ns, bests0, label='Ch.5 Autocorr')\n",
      "thinkplot.config(xscale='log', yscale='log')\n",
      "thinkplot.plot(ns, bests1, label='Ch.8 fft Autocorr')\n",
      "thinkplot.config(xscale='log', yscale='log')\n",
      "thinkplot.plot(ns, bests2, label='Numpy Corr')\n",
      "thinkplot.config(xscale='log', yscale='log')"
     ],
     "language": "python",
     "metadata": {},
     "outputs": []
    },
    {
     "cell_type": "code",
     "collapsed": false,
     "input": [
      "slope0 = scipy.stats.linregress(numpy.log(ns),numpy.log(bests0))\n",
      "print ('Slope of Ch. 5 Autocorr: ' + str(slope0))"
     ],
     "language": "python",
     "metadata": {},
     "outputs": []
    },
    {
     "cell_type": "code",
     "collapsed": false,
     "input": [
      "slope1 = scipy.stats.linregress(numpy.log(ns),numpy.log(bests1))\n",
      "print ('Slope of Ch. 8 Autocorr: ' + str(slope1))"
     ],
     "language": "python",
     "metadata": {},
     "outputs": []
    },
    {
     "cell_type": "code",
     "collapsed": false,
     "input": [
      "slope2 = scipy.stats.linregress(numpy.log(ns),numpy.log(bests2))\n",
      "print ('Slope of Numpy Corr: ' + str(slope2))"
     ],
     "language": "python",
     "metadata": {},
     "outputs": []
    },
    {
     "cell_type": "markdown",
     "metadata": {},
     "source": [
      "Based on the slopes calculated and the plot above, Numpy.Correlate does not seem to be using FFT as the slope does not match that of the FFT autocorrelation, but there is a possibility of a typo somewhere in the code as one would expect Numpy to be the fastest, not the slowest."
     ]
    }
   ],
   "metadata": {}
  }
 ]
}