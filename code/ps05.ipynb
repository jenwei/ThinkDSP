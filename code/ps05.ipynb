{
 "metadata": {
  "name": "",
  "signature": "sha256:81cb3a7d228ee1c4effdc9891685efe56bc6942c6a0978be3c054f5bc037e0c8"
 },
 "nbformat": 3,
 "nbformat_minor": 0,
 "worksheets": [
  {
   "cells": [
    {
     "cell_type": "heading",
     "level": 1,
     "metadata": {},
     "source": [
      "PS05 by Jennifer Wei for SigSys15"
     ]
    },
    {
     "cell_type": "markdown",
     "metadata": {},
     "source": [
      "26 February 2015"
     ]
    },
    {
     "cell_type": "code",
     "collapsed": false,
     "input": [
      "from __future__ import print_function, division\n",
      "\n",
      "import thinkdsp\n",
      "import thinkplot\n",
      "import pandas\n",
      "import numpy\n",
      "import thinkstats2\n",
      "import math\n",
      "import dct\n",
      "\n",
      "from IPython.display import Audio\n",
      "PI2 = 2 * math.pi\n",
      "i = complex(0,1)\n",
      "%precision 3\n",
      "%matplotlib inline"
     ],
     "language": "python",
     "metadata": {},
     "outputs": [],
     "prompt_number": 1
    },
    {
     "cell_type": "markdown",
     "metadata": {},
     "source": [
      "Random In-Class Exercise"
     ]
    },
    {
     "cell_type": "raw",
     "metadata": {},
     "source": [
      "#INSERT WAVE HERE\n",
      "spectrum = wave.make_spectrum()\n",
      "args = PI2*i*spectrum.fs\n",
      "spectrum.hs *= args\n",
      "new_wave spectrum.make_wave()\n",
      "#[SEE CHAPTER 9 iPYNB]"
     ]
    },
    {
     "cell_type": "heading",
     "level": 6,
     "metadata": {},
     "source": [
      "1) Following the example in chap07.ipynb, make a synthesis matrix (the IDFT matrix) using a different range of frequencies, and see what difference it makes."
     ]
    },
    {
     "cell_type": "markdown",
     "metadata": {},
     "source": [
      "The usual version of IDFT uses frequencies 0 through N-1.  What happens if you go from N to 2N-1?"
     ]
    },
    {
     "cell_type": "heading",
     "level": 6,
     "metadata": {},
     "source": [
      "2) In thinkdsp.py, the Spectrum methods low_pass and high_pass are ideal filters, in some sense: in the passband they are perfectly flat, and in the stopband they attenuate to 0 (or whatever value you want).\n"
     ]
    },
    {
     "cell_type": "markdown",
     "metadata": {},
     "source": [
      "Invoking the principle that for every filter there is a corresponding window, see if you can figure out what window corresponds to these ideal filters."
     ]
    },
    {
     "cell_type": "heading",
     "level": 6,
     "metadata": {},
     "source": [
      "3) So far we have focused attention on the effect filters have on the magnitude of each frequency component, but they also affect the phase offset.  For the boxcar and Gaussian windows, plot the phase shift as a function of frequency."
     ]
    },
    {
     "cell_type": "heading",
     "level": 6,
     "metadata": {},
     "source": [
      "4) Taking the difference of successive elements in a wave array has the same effect as convolution with the window [1, -1].  The filter for this\n",
      "window is an increasing function of f, so you can think of diff as a high-pass filter."
     ]
    },
    {
     "cell_type": "markdown",
     "metadata": {},
     "source": [
      "One way to explain this behavior is that diff is a rough approximation of a derivative, and differentiation corresponds to a filter where amplitude is proportional to f."
     ]
    },
    {
     "cell_type": "markdown",
     "metadata": {},
     "source": [
      "If we use a better approximation of a derivative, we might expect the corresponding filter to be a better approximation of a line.  The window [-1/2, 2, -3/2] is a second order forward difference approximation of the first derivative.  Compute its DFT and see what the filter looks like."
     ]
    },
    {
     "cell_type": "markdown",
     "metadata": {},
     "source": [
      "Also try [1, -2, 1], which is approximates the second derivative.  What does the filter for the second derivative look like?  And how does that compare to the filter for this window?\n",
      "\n",
      "See also http://en.wikipedia.org/wiki/Finite_difference_coefficient\n"
     ]
    },
    {
     "cell_type": "heading",
     "level": 6,
     "metadata": {},
     "source": [
      "5) The gunshot recording I used in chap09.ipynb was clipped, which means that the loudest part gets cut off, which makes the rest of the sound seem louder than it should be, which exaggerates the reverb of the space."
     ]
    },
    {
     "cell_type": "markdown",
     "metadata": {},
     "source": [
      "But it looks like there is a better version of this recording at http://www.freesound.org/people/Kleeb/sounds/180960/\n",
      "\n",
      "Use this recording to replace the one I used and see if it tones down the reverb a little.\n",
      "\n",
      "Also, apply the same effect to the saxophone recording."
     ]
    },
    {
     "cell_type": "heading",
     "level": 6,
     "metadata": {},
     "source": [
      "6) (Optional) Let's characterize the transfer function of a door two ways."
     ]
    },
    {
     "cell_type": "markdown",
     "metadata": {},
     "source": [
      "a) Arrange one laptop on either side of a door.  On one laptop, generate white noise for about a second, with maximum volume.  On the other side, record what comes through the door.\n",
      "\n",
      "Compute the spectrums of the transmitted and received signals, and use them to estimate the transfer function.\n",
      "\n",
      "b) Do the same thing with the violin recording, the saxophone recording, or whatever else you like.\n",
      "\n",
      "Now use the transfer function you estimated to simulate the effect of the door on the recording, and compare the result to the actual effect of the door."
     ]
    },
    {
     "cell_type": "code",
     "collapsed": false,
     "input": [],
     "language": "python",
     "metadata": {},
     "outputs": []
    }
   ],
   "metadata": {}
  }
 ]
}